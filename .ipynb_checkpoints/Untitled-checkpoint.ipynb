{
 "cells": [
  {
   "cell_type": "code",
   "execution_count": 81,
   "metadata": {},
   "outputs": [],
   "source": [
    "import read_data\n",
    "import feature_extraction as f\n",
    "import frequency_ecg as fr_ecg\n",
    "import biosppy as bsp\n",
    "import numpy as np\n",
    "import time\n",
    "import matplotlib.pyplot as plt\n",
    "from ecgdetectors import Detectors\n",
    "from hrv import HRV\n",
    "from scipy import stats\n"
   ]
  },
  {
   "cell_type": "code",
   "execution_count": 2,
   "metadata": {},
   "outputs": [
    {
     "name": "stdout",
     "output_type": "stream",
     "text": [
      "[[]]\n",
      "Reading data S2\n",
      "One subject data (1484700, 3)\n",
      "14.43998908996582\n",
      "(1484700, 3)\n",
      "La forma de los datos que devuelvo es: (1484700, 3)\n"
     ]
    }
   ],
   "source": [
    "data = read_data.execute()"
   ]
  },
  {
   "cell_type": "code",
   "execution_count": 129,
   "metadata": {},
   "outputs": [
    {
     "name": "stdout",
     "output_type": "stream",
     "text": [
      "6.389617919921875e-05\n",
      "Media: 0.0019126793997628348\n",
      "Mediana: 0.01849365234375\n",
      "STD: 0.13946613413721048\n",
      "Skewness: 1.2617049849824458\n",
      "Kurtosis: 4.870734045989839\n",
      "RMSSD: 123.28290014997123\n",
      "SDSD: 123.08400980382373\n",
      "SDRR_RMSSD: 1.0630433482314325\n",
      "pNN50: 0.5308641975308642\n",
      "pNN20: 0.7777777777777778\n",
      "SD1: 87.03353798791525\n",
      "SD2: 163.63381195376815\n",
      "freq: {'VLF_Power': 5.923522591444371, 'LF_Power': 0.6927321281874378, 'HF_Power': 0.0008295882968450214, 'LF/HF': 7.0941661853097}\n",
      "DATOS DE RELATIVE_RR:\n",
      "Media: 0.012464903120460235\n",
      "Mediana: 0.004748183083642677\n",
      "STD: 0.19702678318495923\n",
      "Skewness: 0.4014321171536742\n",
      "Kurtosis: 9.475052656266744\n",
      "82\n",
      "0.7345097064971924\n"
     ]
    }
   ],
   "source": [
    "mps = 700\n",
    "eda = data[:,0]\n",
    "ecg = data[:,1]\n",
    "ts ,eda_processed, onsets, peaks, amplitudes = bsp.eda.eda(eda, sampling_rate=700, show=False)\n",
    "\n",
    "detector = Detectors(mps)\n",
    "hrv_class = HRV(mps)\n",
    "#r_peaks = detector.pan_tompkins_detector(ecg)\n",
    "#print(get_time_domain_features(r_peaks[:]).get('rmssd'))\n",
    "#split_in(data, 60)\n",
    "\n",
    "splitted = split_in_seconds(data, mps, 60)\n",
    "#print(splitted[0][:,1][:3])\n",
    "start = time.time()\n",
    "ecg_processing(splitted[0][:,1])\n",
    "print(time.time()-start)\n",
    "#splitted[0][:2] = \n"
   ]
  },
  {
   "cell_type": "code",
   "execution_count": 5,
   "metadata": {},
   "outputs": [],
   "source": [
    "def split_in_seconds(data, sampling_rate, seconds):\n",
    "    start = time.time()\n",
    "    rang = list(range(0,len(data), sampling_rate*seconds))\n",
    "    rang.pop(0)\n",
    "    splitted = np.split(data, rang)\n",
    "    print(time.time()-start)\n",
    "    return splitted"
   ]
  },
  {
   "cell_type": "code",
   "execution_count": 124,
   "metadata": {},
   "outputs": [],
   "source": [
    "# HRV y esas cosas que se hacen\n",
    "# Llamar despues de split_in_seconds\n",
    "def ecg_processing(ecg_signal):\n",
    "    mean = np.mean(ecg_signal)\n",
    "    median = np.median(ecg_signal)\n",
    "    std = np.std(ecg_signal)\n",
    "    skewness = stats.skew(ecg_signal)\n",
    "    kurtosis = stats.kurtosis(ecg_signal)\n",
    "    print(f\"Media: {mean}\\nMediana: {median}\\nSTD: {std}\\nSkewness: {skewness}\\nKurtosis: {kurtosis}\")\n",
    "    \n",
    "    r_peaks = detector.pan_tompkins_detector(ecg_signal)\n",
    "    rmssd = hrv_class.RMSSD(r_peaks)\n",
    "    sdsd = hrv_class.SDSD(r_peaks)\n",
    "    sdrr = hrv_class.SDNN(r_peaks)\n",
    "    print(f\"RMSSD: {rmssd}\\nSDSD: {sdsd}\\nSDRR_RMSSD: {sdrr/rmssd}\")\n",
    "    pNN50 = hrv_class.pNN50(r_peaks)\n",
    "    pNN20 = hrv_class.pNN20(r_peaks)\n",
    "    print(f\"pNN50: {pNN50}\\npNN20: {pNN20}\")\n",
    "    \n",
    "    # A PARTIR DE AQUI, EL CODIGO ES DE PICKUS\n",
    "\n",
    "    \n",
    "    SD1 = (1 / np.sqrt(2)) * sdsd\n",
    "    SD2 = np.sqrt((2 * sdrr ** 2) - (0.5 * sdsd ** 2))\n",
    "    \n",
    "    # Analisis de frecuencias \n",
    "    intervals = hrv_class._intervals(r_peaks)\n",
    "    freq = fr_ecg.frequencyDomain(intervals)\n",
    "    print(f\"SD1: {SD1}\\nSD2: {SD2}\\nfreq: {freq}\")\n",
    "    \n",
    "    relative_rr(intervals)\n",
    "    print(len(r_peaks))\n",
    "    "
   ]
  },
  {
   "cell_type": "code",
   "execution_count": 128,
   "metadata": {},
   "outputs": [],
   "source": [
    "def relative_rr(intervals):\n",
    "    \"\"\"\n",
    "        intervals: Intrevalos RR en milisegundos\n",
    "    \"\"\"\n",
    "    relative_rr_sig = []\n",
    "    \n",
    "    # Para cada par, aplico la formula del paper\n",
    "    for idx, r in enumerate(intervals):\n",
    "        if idx == 0:\n",
    "            pass\n",
    "        else:\n",
    "            # 2 [RRi - RRi-1 / RRi + RRi-1]\n",
    "            RRi = 2*((r - intervals[idx-1]) /(r + intervals[idx-1]))\n",
    "            relative_rr_sig.append(RRi)\n",
    "            \n",
    "    # Saco todas las variables temporales de la misma forma que con los intervalos RR originales\n",
    "    mean = np.mean(relative_rr_sig)\n",
    "    median = np.median(relative_rr_sig)\n",
    "    std = np.std(relative_rr_sig)\n",
    "    skewness = stats.skew(relative_rr_sig)\n",
    "    kurtosis = stats.kurtosis(relative_rr_sig)\n",
    "    print(f\"DATOS DE RELATIVE_RR:\\nMedia: {mean}\\nMediana: {median}\\nSTD: {std}\\nSkewness: {skewness}\\nKurtosis: {kurtosis}\")\n",
    "        "
   ]
  }
 ],
 "metadata": {
  "kernelspec": {
   "display_name": "Python 3.7.7 64-bit ('tfg': conda)",
   "language": "python",
   "name": "python37764bittfgconda0e8e032aa6a1429d99831879bfeb796a"
  },
  "language_info": {
   "codemirror_mode": {
    "name": "ipython",
    "version": 3
   },
   "file_extension": ".py",
   "mimetype": "text/x-python",
   "name": "python",
   "nbconvert_exporter": "python",
   "pygments_lexer": "ipython3",
   "version": "3.7.7"
  }
 },
 "nbformat": 4,
 "nbformat_minor": 4
}
