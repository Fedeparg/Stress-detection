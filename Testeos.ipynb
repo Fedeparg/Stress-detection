{
 "cells": [
  {
   "cell_type": "code",
   "execution_count": 1,
   "metadata": {},
   "outputs": [],
   "source": [
    "import read_data\n",
    "import feature_extraction as f\n",
    "import frequency_ecg as fr_ecg\n",
    "import biosppy as bsp\n",
    "import numpy as np\n",
    "import time\n",
    "import matplotlib.pyplot as plt\n",
    "from ecgdetectors import Detectors\n",
    "from hrv import HRV\n",
    "from scipy import stats\n",
    "import scipy as scpy\n",
    "import cvxEDA as cvx\n"
   ]
  },
  {
   "cell_type": "code",
   "execution_count": 2,
   "metadata": {},
   "outputs": [
    {
     "name": "stdout",
     "output_type": "stream",
     "text": [
      "[[]]\n",
      "Reading data S2\n",
      "One subject data (1484700, 3)\n",
      "15.231505870819092\n",
      "(1484700, 3)\n",
      "La forma de los datos que devuelvo es: (1484700, 3)\n"
     ]
    }
   ],
   "source": [
    "data = read_data.execute()"
   ]
  },
  {
   "cell_type": "code",
   "execution_count": 36,
   "metadata": {},
   "outputs": [
    {
     "name": "stdout",
     "output_type": "stream",
     "text": [
      "42000\n",
      "42000\n",
      "42000\n",
      "42000\n",
      "42000\n",
      "42000\n",
      "42000\n",
      "42000\n",
      "42000\n",
      "42000\n",
      "42000\n",
      "42000\n",
      "42000\n",
      "42000\n",
      "42000\n",
      "42000\n",
      "42000\n",
      "42000\n",
      "42000\n",
      "42000\n",
      "42000\n",
      "42000\n",
      "42000\n",
      "42000\n",
      "42000\n",
      "42000\n",
      "42000\n",
      "42000\n",
      "42000\n",
      "42000\n",
      "42000\n",
      "42000\n",
      "42000\n",
      "42000\n",
      "42000\n",
      "14700\n"
     ]
    },
    {
     "data": {
      "image/png": "[encoded data removed]",
      "text/plain": [
       "<Figure size 432x288 with 1 Axes>"
      ]
     },
     "metadata": {},
     "output_type": "display_data"
    },
    {
     "name": "stdout",
     "output_type": "stream",
     "text": [
      "0.20567917823791504\n"
     ]
    }
   ],
   "source": [
    "mps = 700\n",
    "eda = data[:,0]\n",
    "ecg = data[:,1]\n",
    "\n",
    "detector = Detectors(mps)\n",
    "hrv_class = HRV(mps)\n",
    "#r_peaks = detector.pan_tompkins_detector(ecg)\n",
    "#print(get_time_domain_features(r_peaks[:]).get('rmssd'))\n",
    "#split_in(data, 60)\n",
    "\n",
    "splitted = split_in_seconds(data, mps, 60)\n",
    "#print(splitted[0][:,1][:3])\n",
    "start = time.time()\n",
    "for i, v in enumerate(splitted):\n",
    "    print(len(v))\n",
    "    #ecg_processing(splitted[i][:,1])\n",
    "ecg_processing(splitted[-1][-3999:,1])\n",
    "plt.plot(splitted[-1][-3999:,1])\n",
    "plt.show()\n",
    "print(time.time()-start)\n",
    "#splitted[0][:2] = \n"
   ]
  },
  {
   "cell_type": "code",
   "execution_count": 14,
   "metadata": {},
   "outputs": [],
   "source": [
    "# HRV y esas cosas que se hacen\n",
    "# Llamar despues de split_in_seconds\n",
    "def ecg_processing(ecg_signal):\n",
    "    mean = np.mean(ecg_signal)\n",
    "    median = np.median(ecg_signal)\n",
    "    std = np.std(ecg_signal)\n",
    "    skewness = stats.skew(ecg_signal)\n",
    "    kurtosis = stats.kurtosis(ecg_signal)\n",
    "    #print(f\"Media: {mean}\\nMediana: {median}\\nSTD: {std}\\nSkewness: {skewness}\\nKurtosis: {kurtosis}\")\n",
    "    \n",
    "    r_peaks = detector.pan_tompkins_detector(ecg_signal)\n",
    "    rmssd = hrv_class.RMSSD(r_peaks)\n",
    "    sdsd = hrv_class.SDSD(r_peaks)\n",
    "    sdrr = hrv_class.SDNN(r_peaks)\n",
    "    #print(f\"RMSSD: {rmssd}\\nSDSD: {sdsd}\\nSDRR_RMSSD: {sdrr/rmssd}\")\n",
    "    pNN50 = hrv_class.pNN50(r_peaks)\n",
    "    pNN20 = hrv_class.pNN20(r_peaks)\n",
    "    #print(f\"pNN50: {pNN50}\\npNN20: {pNN20}\")\n",
    "    \n",
    "    # A PARTIR DE AQUI, EL CODIGO ES DE PICKUS\n",
    "\n",
    "    \n",
    "    SD1 = (1 / np.sqrt(2)) * sdsd\n",
    "    SD2 = np.sqrt((2 * sdrr ** 2) - (0.5 * sdsd ** 2))\n",
    "    \n",
    "    # Analisis de frecuencias \n",
    "    intervals = hrv_class._intervals(r_peaks)\n",
    "    freq = fr_ecg.frequencyDomain(intervals)\n",
    "    #print(f\"SD1: {SD1}\\nSD2: {SD2}\\nfreq: {freq}\")\n",
    "    \n",
    "    relative_rr(intervals)\n",
    "    #print(len(r_peaks))\n",
    "    "
   ]
  },
  {
   "cell_type": "code",
   "execution_count": 13,
   "metadata": {},
   "outputs": [],
   "source": [
    "def relative_rr(intervals):\n",
    "    \"\"\"\n",
    "        intervals: Intrevalos RR en milisegundos\n",
    "    \"\"\"\n",
    "    relative_rr_sig = []\n",
    "    \n",
    "    # Para cada par, aplico la formula del paper\n",
    "    for idx, r in enumerate(intervals):\n",
    "        if idx == 0:\n",
    "            pass\n",
    "        else:\n",
    "            # 2 [RRi - RRi-1 / RRi + RRi-1]\n",
    "            RRi = 2*((r - intervals[idx-1]) /(r + intervals[idx-1]))\n",
    "            relative_rr_sig.append(RRi)\n",
    "            \n",
    "    # Saco todas las variables temporales de la misma forma que con los intervalos RR originales\n",
    "    mean = np.mean(relative_rr_sig)\n",
    "    median = np.median(relative_rr_sig)\n",
    "    std = np.std(relative_rr_sig)\n",
    "    skewness = stats.skew(relative_rr_sig)\n",
    "    kurtosis = stats.kurtosis(relative_rr_sig)\n",
    "    #print(f\"DATOS DE RELATIVE_RR:\\nMedia: {mean}\\nMediana: {median}\\nSTD: {std}\\nSkewness: {skewness}\\nKurtosis: {kurtosis}\")\n",
    "        "
   ]
  },
  {
   "cell_type": "code",
   "execution_count": 5,
   "metadata": {},
   "outputs": [
    {
     "name": "stdout",
     "output_type": "stream",
     "text": [
      "Filtro = [0.00457856 0.0050892  0.00659454 0.0090392  0.01233124 0.01634563\n",
      " 0.02092911 0.02590608 0.03108543 0.0362679  0.04125387 0.04585106\n",
      " 0.04988207 0.05319125 0.05565076 0.05716556 0.05767708 0.05716556\n",
      " 0.05565076 0.05319125 0.04988207 0.04585106 0.04125387 0.0362679\n",
      " 0.03108543 0.02590608 0.02092911 0.01634563 0.01233124 0.0090392\n",
      " 0.00659454 0.0050892  0.00457856]\n"
     ]
    }
   ],
   "source": [
    "# Cojo un filtro FIR de 1.5Hz, lowpass y orden 32 para procesar la señal EDA\n",
    "output_signal = scpy.signal.filtfilt(b, a, input_signal)\n",
    "\n",
    "filtro = bsp.tools.get_filter(ftype='FIR', band='lowpass', order = 32, frequency=1.5, sampling_rate= 700)\n",
    "print(f\"Filtro = {filtro[0]}\")\n"
   ]
  },
  {
   "cell_type": "code",
   "execution_count": null,
   "metadata": {},
   "outputs": [],
   "source": []
  },
  {
   "cell_type": "code",
   "execution_count": 20,
   "metadata": {},
   "outputs": [
    {
     "name": "stdout",
     "output_type": "stream",
     "text": [
      "{'df':         EDA_Raw  EDA_Filtered  EDA_Phasic  EDA_Tonic  SCR_Onsets  \\\n",
      "0      5.710983      5.698468    0.000000   2.678125         NaN   \n",
      "1      5.719376      5.698407    0.000000   2.677548         NaN   \n",
      "2      5.706406      5.698346    0.248302   2.676971         NaN   \n",
      "3      5.712509      5.698285    0.247812   2.676394         NaN   \n",
      "4      5.727005      5.698222    0.247323   2.675818         NaN   \n",
      "...         ...           ...         ...        ...         ...   \n",
      "41995  4.522324      4.505711    0.059883  -1.651966         NaN   \n",
      "41996  4.494095      4.505707    0.059864  -1.652084         NaN   \n",
      "41997  4.504013      4.505703    0.059844  -1.652202         NaN   \n",
      "41998  4.512024      4.505698    0.059825  -1.652321         NaN   \n",
      "41999  4.512405      4.505694    0.059806  -1.652439         NaN   \n",
      "\n",
      "       SCR_Recoveries  SCR_Peaks  \n",
      "0                 NaN        NaN  \n",
      "1                 NaN        NaN  \n",
      "2                 NaN        NaN  \n",
      "3                 NaN        NaN  \n",
      "4                 NaN        NaN  \n",
      "...               ...        ...  \n",
      "41995             NaN        NaN  \n",
      "41996             NaN        NaN  \n",
      "41997             NaN        NaN  \n",
      "41998             NaN        NaN  \n",
      "41999             NaN        NaN  \n",
      "\n",
      "[42000 rows x 7 columns], 'EDA': {'SCR_Onsets': array([  864,  2084,  3536,  5241,  5709,  6507,  9574, 15565, 17081,\n",
      "       18847, 19627, 20426, 23369, 24515, 25816, 30095, 32404, 34782,\n",
      "       40077]), 'SCR_Peaks_Indexes': array([ 1676,  3336,  4241,  5662,  6411,  7598,  9922, 16483, 17969,\n",
      "       19228, 20330, 20744, 23842, 24952, 26357, 30802, 32905, 35509,\n",
      "       41040]), 'SCR_Recovery_Indexes': array([   nan,    nan,  4788.,    nan,    nan,  8071., 10232.,    nan,\n",
      "          nan, 19589.,    nan, 21042., 24371., 25391., 26958., 31917.,\n",
      "       33477., 37263.,    nan]), 'SCR_Peaks_Amplitudes': array([0.09215131, 0.2498684 , 0.13933814, 0.04677007, 0.10547713,\n",
      "       0.13709798, 0.02460483, 0.08084601, 0.14001636, 0.02922458,\n",
      "       0.11215823, 0.03379673, 0.05061572, 0.03784013, 0.07016064,\n",
      "       0.04413305, 0.01959347, 0.06935924, 0.04146851])}}\n",
      "0.09215131200319776\n",
      "0.13939430449284848\n"
     ]
    }
   ],
   "source": [
    "import neurokit as nk\n",
    "splitted = split_in_seconds(data, 700, 60)\n",
    "#print(len(splitted[1][:,0]))\n",
    "\n",
    "processed_eda = nk.eda_process(splitted[37][:,0], sampling_rate=700)\n",
    "\n",
    "print(processed_eda)\n",
    "peaks = processed_eda['df']['SCR_Peaks']\n",
    "print(processed_eda['df']['SCR_Peaks'][1676])\n",
    "tonic, phasic = nk.cvxEDA(splitted[0][:,0], sampling_rate=700)\n",
    "print(phasic[1676])\n",
    "\n",
    "x = processed_eda['df']['SCR_Onsets']\n",
    "\n",
    "nan_array = np.isnan(x)\n",
    "not_nan_array = ~ nan_array\n",
    "x = x[not_nan_array]\n",
    "#print(x)\n",
    "onsets = processed_eda['EDA']['SCR_Onsets']\n",
    "\n",
    "#print(processed_eda['df']['EDA_Phasic'])"
   ]
  },
  {
   "cell_type": "code",
   "execution_count": 182,
   "metadata": {},
   "outputs": [
    {
     "name": "stdout",
     "output_type": "stream",
     "text": [
      "     pcost       dcost       gap    pres   dres\n",
      " 0: -5.1226e+05 -5.1222e+05  4e+04  2e+02  2e+01\n",
      " 1: -5.1222e+05 -5.1294e+05  7e+02  3e+00  3e-01\n",
      " 2: -5.1223e+05 -5.1227e+05  4e+01  5e-02  4e-03\n",
      " 3: -5.1225e+05 -5.1226e+05  4e+00  3e-03  2e-04\n",
      " 4: -5.1226e+05 -5.1226e+05  2e+00  1e-03  1e-04\n",
      " 5: -5.1226e+05 -5.1226e+05  9e-01  6e-04  5e-05\n",
      " 6: -5.1226e+05 -5.1226e+05  4e-01  3e-04  2e-05\n",
      " 7: -5.1226e+05 -5.1226e+05  2e-01  1e-04  8e-06\n",
      " 8: -5.1226e+05 -5.1226e+05  6e-02  3e-05  2e-06\n",
      " 9: -5.1226e+05 -5.1226e+05  1e-02  2e-06  2e-07\n",
      "10: -5.1226e+05 -5.1226e+05  1e-02  1e-06  1e-07\n",
      "11: -5.1226e+05 -5.1226e+05  3e-03  2e-07  2e-08\n",
      "12: -5.1226e+05 -5.1226e+05  2e-03  2e-07  1e-08\n",
      "13: -5.1226e+05 -5.1226e+05  8e-04  4e-08  8e-09\n",
      "14: -5.1226e+05 -5.1226e+05  8e-04  3e-08  7e-09\n",
      "15: -5.1226e+05 -5.1226e+05  2e-04  5e-09  7e-09\n",
      "Optimal solution found.\n"
     ]
    }
   ],
   "source": [
    "[r, p, t, l, d, e, obj] = cvx.cvxEDA(splitted[0][:,0], 1/mps)"
   ]
  },
  {
   "cell_type": "code",
   "execution_count": 219,
   "metadata": {},
   "outputs": [
    {
     "name": "stdout",
     "output_type": "stream",
     "text": [
      "[0.         0.         0.06528074 ... 0.00627628 0.00627285 0.00626942]\n"
     ]
    }
   ],
   "source": [
    "print(r)"
   ]
  },
  {
   "cell_type": "code",
   "execution_count": 4,
   "metadata": {},
   "outputs": [],
   "source": [
    "def split_in_seconds(data, sampling_rate, seconds):\n",
    "    rang = list(range(0, len(data), sampling_rate*seconds))\n",
    "    rang.pop(0)\n",
    "    splitted = np.split(data, rang)\n",
    "    return splitted"
   ]
  }
 ],
 "metadata": {
  "kernelspec": {
   "display_name": "Python 3.7.7 64-bit ('tfg': conda)",
   "language": "python",
   "name": "python37764bittfgconda0e8e032aa6a1429d99831879bfeb796a"
  },
  "language_info": {
   "codemirror_mode": {
    "name": "ipython",
    "version": 3
   },
   "file_extension": ".py",
   "mimetype": "text/x-python",
   "name": "python",
   "nbconvert_exporter": "python",
   "pygments_lexer": "ipython3",
   "version": "3.7.7"
  }
 },
 "nbformat": 4,
 "nbformat_minor": 4
}
