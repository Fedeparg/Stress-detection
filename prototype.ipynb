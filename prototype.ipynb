{
 "cells": [
  {
   "cell_type": "code",
   "execution_count": 5,
   "metadata": {
    "collapsed": true
   },
   "outputs": [],
   "source": [
    "import os\n",
    "import pickle\n",
    "import numpy as np\n",
    "import matplotlib.pyplot as plt\n",
    "import neurokit as nk\n",
    "import seaborn as sns\n",
    "import pandas as pd"
   ]
  },
  {
   "cell_type": "code",
   "execution_count": 7,
   "metadata": {},
   "outputs": [],
   "source": [
    "\n",
    "class read_data_of_one_subject:\n",
    "    \"\"\"Read data from WESAD dataset\"\"\"\n",
    "    def __init__(self, path, subject):\n",
    "        self.keys = ['label', 'subject', 'signal']\n",
    "        self.signal_keys = ['wrist', 'chest']\n",
    "        self.chest_sensor_keys = ['ACC', 'ECG', 'EDA', 'EMG', 'Resp', 'Temp']\n",
    "        self.wrist_sensor_keys = ['ACC', 'BVP', 'EDA', 'TEMP']\n",
    "        os.chdir(path)\n",
    "        os.chdir(subject)\n",
    "        with open(subject + '.pkl', 'rb') as file:\n",
    "            data = pickle.load(file, encoding='latin1')\n",
    "        self.data = data\n",
    "\n",
    "    def get_labels(self):\n",
    "        return self.data[self.keys[0]]\n",
    "\n",
    "    def get_wrist_data(self):\n",
    "        \"\"\"\"\"\"\n",
    "        #label = self.data[self.keys[0]]\n",
    "        assert subject == self.data[self.keys[1]]\n",
    "        signal = self.data[self.keys[2]]\n",
    "        wrist_data = signal[self.signal_keys[0]]\n",
    "        #wrist_ACC = wrist_data[self.wrist_sensor_keys[0]]\n",
    "        #wrist_ECG = wrist_data[self.wrist_sensor_keys[1]]\n",
    "        return wrist_data\n",
    "\n",
    "    def get_chest_data(self):\n",
    "        \"\"\"\"\"\"\n",
    "        signal = self.data[self.keys[2]]\n",
    "        chest_data = signal[self.signal_keys[1]]\n",
    "        return chest_data"
   ]
  },
  {
   "cell_type": "code",
   "execution_count": 3,
   "metadata": {},
   "outputs": [],
   "source": [
    "data_set_path = \"/media/jac/New Volume/Datasets/WESAD\"\n",
    "subject = 'S3'"
   ]
  },
  {
   "cell_type": "code",
   "execution_count": 6,
   "metadata": {},
   "outputs": [],
   "source": [
    "obj_data = {}\n",
    "obj_data[subject] = read_data_of_one_subject(data_set_path, subject)"
   ]
  },
  {
   "cell_type": "code",
   "execution_count": 8,
   "metadata": {},
   "outputs": [
    {
     "name": "stdout",
     "output_type": "stream",
     "text": [
      "{'Resp': 4545100, 'ECG': 4545100, 'EDA': 4545100, 'Temp': 4545100, 'EMG': 4545100, 'ACC': 4545100}\n"
     ]
    }
   ],
   "source": [
    "chest_data_dict = obj_data[subject].get_chest_data()\n",
    "chest_dict_length = {key: len(value) for key, value in chest_data_dict.items()}\n",
    "print(chest_dict_length)"
   ]
  },
  {
   "cell_type": "code",
   "execution_count": 10,
   "metadata": {},
   "outputs": [
    {
     "name": "stdout",
     "output_type": "stream",
     "text": [
      "Baseline: (798000, 1)\n"
     ]
    }
   ],
   "source": [
    "# Get labels\n",
    "labels = obj_data[subject].get_labels()\n",
    "baseline = np.asarray([idx for idx,val in enumerate(labels) if val == 1])\n",
    "#print(baseline)\n",
    "\n",
    "print(\"Baseline:\", chest_data_dict['ECG'][baseline].shape)"
   ]
  },
  {
   "cell_type": "code",
   "execution_count": 12,
   "metadata": {},
   "outputs": [
    {
     "name": "stderr",
     "output_type": "stream",
     "text": [
      "/usr/local/lib/python3.5/dist-packages/sklearn/base.py:251: UserWarning: Trying to unpickle estimator LabelBinarizer from version 0.19.1 when using version 0.20.1. This might lead to breaking code or invalid results. Use at your own risk.\n  UserWarning)\n/usr/local/lib/python3.5/dist-packages/sklearn/base.py:251: UserWarning: Trying to unpickle estimator MLPClassifier from version 0.19.1 when using version 0.20.1. This might lead to breaking code or invalid results. Use at your own risk.\n  UserWarning)\n/usr/local/lib/python3.5/dist-packages/neurokit/bio/bio_ecg.py:371: FutureWarning: Method .as_matrix will be removed in a future version. Use .values instead.\n  quality[\"Cardiac_Cycles_Signal_Quality\"] = predict[lead].as_matrix()\n"
     ]
    }
   ],
   "source": [
    "bio = nk.bio_process(ecg=chest_data_dict[\"ECG\"][baseline].flatten(), rsp=chest_data_dict['Resp'][baseline].flatten()\n",
    "                         , eda=chest_data_dict[\"EDA\"][baseline].flatten(), sampling_rate=700)\n",
    "nk.z_score(bio[\"df\"]).plot()\n",
    "\"\"\"print(bio[\"ECG\"].keys())\n",
    "print(bio[\"EDA\"].keys())\n",
    "print(bio[\"RSP\"].keys())\n",
    "\n",
    "#ECG\n",
    "print(bio[\"ECG\"][\"HRV\"])\n",
    "print(bio[\"ECG\"][\"R_Peaks\"])\n",
    "\n",
    "#EDA\n",
    "print(bio[\"EDA\"][\"SCR_Peaks_Amplitudes\"])\n",
    "print(bio[\"EDA\"][\"SCR_Onsets\"])\n",
    "\n",
    "#RSP\n",
    "print(bio[\"RSP\"][\"Cycles_Onsets\"])\n",
    "print(bio[\"RSP\"][\"Cycles_Length\"])\n",
    "\"\"\""
   ]
  }
 ],
 "metadata": {
  "kernelspec": {
   "display_name": "Python 2",
   "language": "python",
   "name": "python2"
  },
  "language_info": {
   "codemirror_mode": {
    "name": "ipython",
    "version": 2
   },
   "file_extension": ".py",
   "mimetype": "text/x-python",
   "name": "python",
   "nbconvert_exporter": "python",
   "pygments_lexer": "ipython2",
   "version": "2.7.6"
  }
 },
 "nbformat": 4,
 "nbformat_minor": 0
}
