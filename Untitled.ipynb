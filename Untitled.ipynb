{
 "cells": [
  {
   "cell_type": "code",
   "execution_count": 1,
   "metadata": {},
   "outputs": [],
   "source": [
    "import read_data\n",
    "import feature_extraction as f\n",
    "import biosppy as bsp\n",
    "import numpy as np\n",
    "import time\n",
    "import matplotlib.pyplot as plt\n",
    "from ecgdetectors import Detectors\n",
    "from hrvanalysis import get_time_domain_features\n"
   ]
  },
  {
   "cell_type": "code",
   "execution_count": 2,
   "metadata": {},
   "outputs": [
    {
     "name": "stdout",
     "output_type": "stream",
     "text": [
      "Reading data S2\n",
      "(800800,)\n",
      "(430500,)\n",
      "(253400,)\n",
      "2\n",
      "3\n",
      "1\n",
      "One subject data (1484700, 3)\n",
      "(1484700, 3)\n",
      "La forma de los datos que devuelvo es: (1484700, 3)\n"
     ]
    }
   ],
   "source": [
    "data = read_data.execute()"
   ]
  },
  {
   "cell_type": "code",
   "execution_count": 178,
   "metadata": {},
   "outputs": [
    {
     "name": "stdout",
     "output_type": "stream",
     "text": [
      "6.914138793945312e-05\n",
      "0.005419015884399414\n"
     ]
    }
   ],
   "source": [
    "mps = 700\n",
    "eda = data[:,0]\n",
    "ecg = data[:,1]\n",
    "ts ,eda_processed, onsets, peaks, amplitudes = bsp.eda.eda(eda, sampling_rate=700, show=False)\n",
    "\n",
    "detector = Detectors(mps)\n",
    "#r_peaks = detector.pan_tompkins_detector(ecg)\n",
    "#print(get_time_domain_features(r_peaks[:]).get('rmssd'))\n",
    "#split_in_seconds(data, 60)\n",
    "\n",
    "splitted = split_in_seconds(data, mps, 60)\n",
    "\n",
    "processed=splitted[30]\n",
    "add = np.zeros([len(processed),5])\n",
    "start = time.time()\n",
    "#processed = np.hstack((processed, add, add, add, add, add))\n",
    "processed = np.concatenate((processed, add, add, add, add, add), axis=1)\n",
    "\n",
    "# Sustituyo un array anterior con los nuevos datos\n",
    "splitted[0] = processed\n",
    "print(time.time()-start)\n",
    "#splitted[0][:2] = \n"
   ]
  },
  {
   "cell_type": "code",
   "execution_count": 49,
   "metadata": {},
   "outputs": [],
   "source": [
    "def split_in_seconds(data, sampling_rate, seconds):\n",
    "    start = time.time()\n",
    "    rang = list(range(0,len(data), sampling_rate*seconds))\n",
    "    rang.pop(0)\n",
    "    splitted = np.split(data, rang)\n",
    "    print(time.time()-start)\n",
    "    return splitted"
   ]
  },
  {
   "cell_type": "code",
   "execution_count": null,
   "metadata": {},
   "outputs": [],
   "source": []
  }
 ],
 "metadata": {
  "kernelspec": {
   "display_name": "Python 3.7.7 64-bit ('tfg': conda)",
   "language": "python",
   "name": "python37764bittfgconda0e8e032aa6a1429d99831879bfeb796a"
  },
  "language_info": {
   "codemirror_mode": {
    "name": "ipython",
    "version": 3
   },
   "file_extension": ".py",
   "mimetype": "text/x-python",
   "name": "python",
   "nbconvert_exporter": "python",
   "pygments_lexer": "ipython3",
   "version": "3.7.7"
  }
 },
 "nbformat": 4,
 "nbformat_minor": 4
}
